{
 "cells": [
  {
   "cell_type": "code",
   "execution_count": 32,
   "metadata": {},
   "outputs": [],
   "source": [
    "import polars as pl\n",
    "import numpy as np\n",
    "import pandas as pd\n",
    "from sklearn.linear_model import LinearRegression\n",
    "import time\n",
    "\n",
    "number_of_lines = 1000\n",
    "number_of_columns = 4"
   ]
  },
  {
   "cell_type": "markdown",
   "metadata": {},
   "source": [
    "## Pandas"
   ]
  },
  {
   "cell_type": "code",
   "execution_count": 33,
   "metadata": {},
   "outputs": [
    {
     "name": "stdout",
     "output_type": "stream",
     "text": [
      "    Pandas: 0.02030 sekuntia\n"
     ]
    }
   ],
   "source": [
    "t1 = time.time()\n",
    "\n",
    "# Create the DataFrame using Pandas\n",
    "pandas_data = pd.DataFrame(\n",
    "    np.random.randn(number_of_lines, number_of_columns),\n",
    "    columns=[f\"column_{i}\" for i in range(number_of_columns)]\n",
    ")\n",
    "\n",
    "# Select the features (all columns except 'column_0')\n",
    "x = pandas_data.drop(columns=[\"column_0\"])\n",
    "\n",
    "# Select the target variable ('column_0')\n",
    "y = pandas_data[\"column_0\"]\n",
    "\n",
    "# Split the data into training and testing sets\n",
    "x_train = x[:80]\n",
    "y_train = y[:80]\n",
    "\n",
    "x_test = x[80:]\n",
    "y_test = y[80:]\n",
    "\n",
    "# Initialize and fit the Linear Regression model\n",
    "m = LinearRegression()\n",
    "m.fit(X=x_train, y=y_train)\n",
    "\n",
    "# Make predictions on the test set\n",
    "predictions = m.predict(x_test)\n",
    "\n",
    "t2 = time.time()\n",
    "\n",
    "pandas_time = t2 - t1\n",
    "print(\"    {}: {:.5f} sekuntia\".format(\"Pandas\",t2 - t1))\n",
    "\n",
    "# print(predictions)\n"
   ]
  },
  {
   "cell_type": "markdown",
   "metadata": {},
   "source": [
    "## Polars"
   ]
  },
  {
   "cell_type": "code",
   "execution_count": 34,
   "metadata": {},
   "outputs": [
    {
     "name": "stdout",
     "output_type": "stream",
     "text": [
      "    Polars: 0.01410 sekuntia\n"
     ]
    }
   ],
   "source": [
    "t1 = time.time()\n",
    "polars_data = pl.DataFrame(\n",
    "    np.random.randn(number_of_lines, number_of_columns)\n",
    ")\n",
    "\n",
    "x = polars_data.select([\n",
    "    pl.all().exclude(\"column_0\"),\n",
    "])\n",
    "\n",
    "y = polars_data.select(pl.col(\"column_0\").alias(\"y\"))\n",
    "\n",
    "\n",
    "x_train = x[:80]\n",
    "y_train = y[:80]\n",
    "\n",
    "x_test = x[80:]\n",
    "y_test = y[80:]\n",
    "\n",
    "\n",
    "m = LinearRegression()\n",
    "\n",
    "m.fit(X=x_train.to_numpy(), y=y_train.to_numpy())\n",
    "m.predict(x_test.to_numpy())\n",
    "\n",
    "t2 = time.time()\n",
    "\n",
    "polars_time = t2 - t1\n",
    "print(\"    {}: {:.5f} sekuntia\".format(\"Polars\",polars_time))"
   ]
  },
  {
   "cell_type": "markdown",
   "metadata": {},
   "source": [
    "## Suorituskyky"
   ]
  },
  {
   "cell_type": "code",
   "execution_count": 35,
   "metadata": {},
   "outputs": [
    {
     "name": "stdout",
     "output_type": "stream",
     "text": [
      "Polars on 1.4401914684888875 kertaa nopeampi kuin Pandas\n"
     ]
    }
   ],
   "source": [
    "aikaero = pandas_time/polars_time\n",
    "print(f\"Polars on {aikaero} kertaa nopeampi kuin Pandas\")"
   ]
  },
  {
   "cell_type": "code",
   "execution_count": 36,
   "metadata": {},
   "outputs": [
    {
     "name": "stdout",
     "output_type": "stream",
     "text": [
      "Original data:\n",
      " [[1. 2.]\n",
      " [2. 3.]\n",
      " [3. 4.]\n",
      " [4. 5.]]\n",
      "Scaled data:\n",
      " [[-1.34164079 -1.34164079]\n",
      " [-0.4472136  -0.4472136 ]\n",
      " [ 0.4472136   0.4472136 ]\n",
      " [ 1.34164079  1.34164079]]\n",
      "Mean of the original data: [2.5 3.5]\n",
      "Standard deviation of the original data: [1.11803399 1.11803399]\n",
      "Mean of the scaled data: [0. 0.]\n",
      "Standard deviation of the scaled data: [1. 1.]\n"
     ]
    }
   ],
   "source": [
    "from sklearn.preprocessing import StandardScaler\n",
    "import numpy as np\n",
    "\n",
    "# Sample data\n",
    "data = np.array([[1.0, 2.0], [2.0, 3.0], [3.0, 4.0], [4.0, 5.0]])\n",
    "\n",
    "# Initialize the StandardScaler\n",
    "scaler = StandardScaler()\n",
    "\n",
    "# Fit the scaler to the data and transform the data\n",
    "scaled_data = scaler.fit_transform(data)\n",
    "\n",
    "print(\"Original data:\\n\", data)\n",
    "print(\"Scaled data:\\n\", scaled_data)\n",
    "\n",
    "# Mean and standard deviation of the original data\n",
    "print(\"Mean of the original data:\", data.mean(axis=0))\n",
    "print(\"Standard deviation of the original data:\", data.std(axis=0))\n",
    "\n",
    "# Mean and standard deviation of the scaled data\n",
    "print(\"Mean of the scaled data:\", scaled_data.mean(axis=0))\n",
    "print(\"Standard deviation of the scaled data:\", scaled_data.std(axis=0))"
   ]
  }
 ],
 "metadata": {
  "kernelspec": {
   "display_name": "venv",
   "language": "python",
   "name": "python3"
  },
  "language_info": {
   "codemirror_mode": {
    "name": "ipython",
    "version": 3
   },
   "file_extension": ".py",
   "mimetype": "text/x-python",
   "name": "python",
   "nbconvert_exporter": "python",
   "pygments_lexer": "ipython3",
   "version": "3.10.4"
  }
 },
 "nbformat": 4,
 "nbformat_minor": 2
}
