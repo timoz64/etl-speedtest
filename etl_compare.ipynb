{
 "cells": [
  {
   "cell_type": "code",
   "execution_count": 1,
   "metadata": {},
   "outputs": [],
   "source": [
    "import pandas as pd\n",
    "import polars as pl\n",
    "import time\n"
   ]
  },
  {
   "cell_type": "markdown",
   "metadata": {},
   "source": [
    "## Pandas"
   ]
  },
  {
   "cell_type": "code",
   "execution_count": 26,
   "metadata": {},
   "outputs": [
    {
     "name": "stdout",
     "output_type": "stream",
     "text": [
      "    Pandas: 6.39465 sekuntia\n"
     ]
    }
   ],
   "source": [
    "t1 = time.time()\n",
    "\n",
    "df_people_pandas = pd.read_csv('people.csv')\n",
    "# Vaihda kaikki numero 3:t sarakkeessa 'osasto_id' numeroksi 4\n",
    "df_people_pandas['osasto_id'] = df_people_pandas['osasto_id'].replace(3, 4)\n",
    "\n",
    "df_osastot_pandas = pd.read_csv('osastot.csv')\n",
    "df_result_pandas = df_people_pandas.merge(df_osastot_pandas, on='osasto_id', how='left')\n",
    "df_result_pandas.to_csv('joined_pandas.csv', index=False)\n",
    "\n",
    "t2 = time.time()\n",
    "\n",
    "pandas_time = t2 - t1\n",
    "print(\"    {}: {:.5f} sekuntia\".format(\"Pandas\",t2 - t1))"
   ]
  },
  {
   "cell_type": "markdown",
   "metadata": {},
   "source": [
    "## Polars"
   ]
  },
  {
   "cell_type": "code",
   "execution_count": 27,
   "metadata": {},
   "outputs": [
    {
     "name": "stdout",
     "output_type": "stream",
     "text": [
      "    Polars: 0.65990 sekuntia\n"
     ]
    }
   ],
   "source": [
    "t1 =time.time()\n",
    "\n",
    "df_people = pl.read_csv('people.csv')\n",
    "# Vaihda kaikki numero 3:t sarakkeessa 'osasto_id' numeroksi 4\n",
    "df_people = df_people.with_columns(\n",
    "    pl.when(pl.col('osasto_id') == 3)\n",
    "      .then(4)\n",
    "      .otherwise(pl.col('osasto_id'))\n",
    "      .alias('osasto_id')\n",
    ")\n",
    "\n",
    "df_osastot = pl.read_csv('osastot.csv')\n",
    "df_result = df_people.join(df_osastot, on=\"osasto_id\", how=\"left\")\n",
    "df_result.write_csv(\"joined_polars.csv\")\n",
    "\n",
    "t2 = time.time()\n",
    "\n",
    "polars_time = t2 - t1\n",
    "print(\"    {}: {:.5f} sekuntia\".format(\"Polars\",polars_time))"
   ]
  },
  {
   "cell_type": "code",
   "execution_count": 28,
   "metadata": {},
   "outputs": [
    {
     "name": "stdout",
     "output_type": "stream",
     "text": [
      "Polars on 9.690386674778994 kertaa nopeampi kuin Pandas\n"
     ]
    }
   ],
   "source": [
    "aikaero = pandas_time/polars_time\n",
    "print(f\"Polars on {aikaero} kertaa nopeampi kuin Pandas\")"
   ]
  }
 ],
 "metadata": {
  "kernelspec": {
   "display_name": "venv",
   "language": "python",
   "name": "python3"
  },
  "language_info": {
   "codemirror_mode": {
    "name": "ipython",
    "version": 3
   },
   "file_extension": ".py",
   "mimetype": "text/x-python",
   "name": "python",
   "nbconvert_exporter": "python",
   "pygments_lexer": "ipython3",
   "version": "3.10.4"
  }
 },
 "nbformat": 4,
 "nbformat_minor": 2
}
